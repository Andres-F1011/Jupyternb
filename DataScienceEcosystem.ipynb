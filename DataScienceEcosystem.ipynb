{
 "cells": [
  {
   "cell_type": "markdown",
   "id": "94b9c627-af4e-4372-a150-0626f23abd1d",
   "metadata": {},
   "source": [
    "# Data Science Tools and Ecosystem\n"
   ]
  },
  {
   "cell_type": "markdown",
   "id": "626585b7-a17b-4bc8-b03a-33393db74335",
   "metadata": {},
   "source": [
    "In this notebook, Data Science Tools and Ecosystem are summarized."
   ]
  },
  {
   "cell_type": "markdown",
   "id": "31b47bf7-463f-4549-8472-a91ebb60f410",
   "metadata": {},
   "source": [
    "Some of the popular languages that Data Scientists use are:\n",
    "1. Python\n",
    "2. R\n",
    "3. Julia"
   ]
  },
  {
   "cell_type": "markdown",
   "id": "c4453465-85ee-473a-b5d0-24fb3a76f1dd",
   "metadata": {},
   "source": [
    "Some of the commonly used libraries used by Data Scientists include:\n",
    "1. dplyr\n",
    "2. pandas\n",
    "3. Numpy\n",
    "4. Scikit - learn\n",
    "5. Keras\n",
    "6. Seaborn\n",
    "7. Matplotlib"
   ]
  },
  {
   "cell_type": "markdown",
   "id": "b65e5b23-4741-4b4c-8de4-23afbe06e7cf",
   "metadata": {},
   "source": [
    "|Data Science Tools|\n",
    "--------------------\n",
    "|Python|\n",
    "|R|\n",
    "|MySQL|\n",
    "|Apache Spark|\n",
    " "
   ]
  },
  {
   "cell_type": "markdown",
   "id": "a6bbc73c-128f-443c-b1cf-af9297080150",
   "metadata": {},
   "source": [
    "### Below are a few examples of evaluating arithmetic expressions in Python\n"
   ]
  },
  {
   "cell_type": "code",
   "execution_count": 2,
   "id": "485fd93c-dc1e-4aac-8742-1e1f5abe4c77",
   "metadata": {},
   "outputs": [
    {
     "data": {
      "text/plain": [
       "17"
      ]
     },
     "execution_count": 2,
     "metadata": {},
     "output_type": "execute_result"
    }
   ],
   "source": [
    "#This a simple arithmetic expression to mutiply then add integers\n",
    "(3*4)+5"
   ]
  },
  {
   "cell_type": "code",
   "execution_count": 3,
   "id": "37848569-c7ee-4a9d-a974-363ab4043127",
   "metadata": {},
   "outputs": [
    {
     "data": {
      "text/plain": [
       "3.3333333333333335"
      ]
     },
     "execution_count": 3,
     "metadata": {},
     "output_type": "execute_result"
    }
   ],
   "source": [
    "#This will convert 200 minutes to hours by diving by 60\n",
    "200/60\n"
   ]
  },
  {
   "cell_type": "markdown",
   "id": "aa7b5702-b5c1-412b-9df9-5f556d5e7729",
   "metadata": {},
   "source": [
    "**Objectives:**\n",
    "List popular languages for Data Science\n",
    "* R \n",
    "* Python\n",
    "* Julia\n",
    "* Scala\n",
    "* Java\n",
    "* SQL"
   ]
  },
  {
   "cell_type": "markdown",
   "id": "1bb2570f-07f3-4dec-9939-235be1327336",
   "metadata": {},
   "source": [
    "## Author\n",
    "Andres Felipe Segura Buendia "
   ]
  },
  {
   "cell_type": "code",
   "execution_count": null,
   "id": "bdcd836e-aa56-4afa-8831-1c057bd919a1",
   "metadata": {},
   "outputs": [],
   "source": []
  }
 ],
 "metadata": {
  "kernelspec": {
   "display_name": "Python 3 (ipykernel)",
   "language": "python",
   "name": "python3"
  },
  "language_info": {
   "codemirror_mode": {
    "name": "ipython",
    "version": 3
   },
   "file_extension": ".py",
   "mimetype": "text/x-python",
   "name": "python",
   "nbconvert_exporter": "python",
   "pygments_lexer": "ipython3",
   "version": "3.12.4"
  }
 },
 "nbformat": 4,
 "nbformat_minor": 5
}
